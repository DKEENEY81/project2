{
 "cells": [
  {
   "cell_type": "code",
   "execution_count": 1,
   "metadata": {},
   "outputs": [],
   "source": [
    "import pandas as pd\n",
    "import numpy as np\n",
    "from sklearn.ensemble import GradientBoostingClassifier\n",
    "from sklearn.model_selection import cross_val_score\n",
    "from sklearn import metrics\n",
    "import matplotlib.pylab as plt\n",
    "%matplotlib inline\n",
    "from sklearn.model_selection import train_test_split\n",
    "pd.set_option('display.max_columns', 100)"
   ]
  },
  {
   "cell_type": "code",
   "execution_count": 2,
   "metadata": {},
   "outputs": [],
   "source": [
    "Cases = pd.read_csv('data/Cases2018.csv', encoding='iso-8859-1')"
   ]
  },
  {
   "cell_type": "code",
   "execution_count": 3,
   "metadata": {},
   "outputs": [],
   "source": [
    "unneeded =Cases[['caseId','docketId','lexisCite','term','naturalCourt','docket','chief','caseName','caseIssuesId','voteId','dateDecision', 'decisionType','usCite','sctCite','ledCite', 'issue','issueArea','decisionDirection','decisionDirectionDissent','authorityDecision1','authorityDecision2','lawType','lawSupp','lawMinor','majOpinWriter','majOpinAssigner']]\n",
    "labels =Cases[['declarationUncon', 'caseDisposition', 'caseDispositionUnusual','partyWinning', 'precedentAlteration','voteUnclear','splitVote','majVotes','minVotes']]"
   ]
  },
  {
   "cell_type": "code",
   "execution_count": 4,
   "metadata": {},
   "outputs": [],
   "source": [
    "Cases.drop(unneeded, axis=1, inplace=True)\n",
    "Cases.drop(labels, axis=1, inplace=True)"
   ]
  },
  {
   "cell_type": "markdown",
   "metadata": {},
   "source": [
    "##### Dates not important, just the fact oral arguments occured or not"
   ]
  },
  {
   "cell_type": "code",
   "execution_count": 7,
   "metadata": {},
   "outputs": [],
   "source": [
    "Cases[['dateArgument','dateRearg']]=Cases[['dateArgument', 'dateRearg']].notnull().astype(int)"
   ]
  },
  {
   "cell_type": "markdown",
   "metadata": {},
   "source": [
    "#### filling some NaN in petitioner/respondent state columns with 0 a variable to mean unspecified "
   ]
  },
  {
   "cell_type": "code",
   "execution_count": 9,
   "metadata": {},
   "outputs": [],
   "source": [
    "Cases[['petitionerState','adminActionState','threeJudgeFdc','respondentState',]] = Cases[['petitionerState','adminActionState','threeJudgeFdc','respondentState',]].fillna(value=0.0)\n",
    "Cases['respondent'] = Cases[['respondent']].fillna(value=501)# There was already a code for unidentfiable which i reused for NaN here\n",
    "Cases['adminAction'] = Cases[['adminAction']].fillna(value=118.0)# There was already a code for unidentfiable which i reused for NaN here\n",
    "Cases['caseOrigin'] = Cases[['caseOrigin']].fillna(value=0.0)#meaning originated in supreme court\n",
    "Cases['caseSource'] = Cases[['caseSource']].fillna(value=0.0)##meaning originated in supreme court\n",
    "Cases['caseOriginState'] = Cases[['caseOriginState']].fillna(value=0.0)\n",
    "Cases['caseSourceState'] = Cases[['caseSourceState']].fillna(value=0.0)\n",
    "Cases['lcDisagreement'] = Cases[['lcDisagreement']].fillna(value=0.0)\n",
    "Cases['certReason'] = Cases[['certReason']].fillna(value=12)\n",
    "Cases['lcDisposition'] = Cases[['lcDisposition']].fillna(value=0.0)\n",
    "Cases['lcDispositionDirection'] = Cases[['lcDispositionDirection']].fillna(value=3.0)"
   ]
  },
  {
   "cell_type": "code",
   "execution_count": 10,
   "metadata": {},
   "outputs": [],
   "source": [
    "finalLabels = labels['partyWinning']"
   ]
  },
  {
   "cell_type": "code",
   "execution_count": 11,
   "metadata": {},
   "outputs": [],
   "source": [
    "Cases['result'] = labels['partyWinning']"
   ]
  },
  {
   "cell_type": "code",
   "execution_count": 14,
   "metadata": {},
   "outputs": [
    {
     "name": "stdout",
     "output_type": "stream",
     "text": [
      "<class 'pandas.core.frame.DataFrame'>\n",
      "RangeIndex: 8893 entries, 0 to 8892\n",
      "Data columns (total 19 columns):\n",
      "dateArgument              8893 non-null int32\n",
      "dateRearg                 8893 non-null int32\n",
      "petitioner                8893 non-null int64\n",
      "petitionerState           8893 non-null float64\n",
      "respondent                8893 non-null float64\n",
      "respondentState           8893 non-null float64\n",
      "jurisdiction              8893 non-null int64\n",
      "adminAction               8893 non-null float64\n",
      "adminActionState          8893 non-null float64\n",
      "threeJudgeFdc             8893 non-null float64\n",
      "caseOrigin                8893 non-null float64\n",
      "caseOriginState           8893 non-null float64\n",
      "caseSource                8893 non-null float64\n",
      "caseSourceState           8893 non-null float64\n",
      "lcDisagreement            8893 non-null float64\n",
      "certReason                8893 non-null float64\n",
      "lcDisposition             8893 non-null float64\n",
      "lcDispositionDirection    8893 non-null float64\n",
      "result                    8893 non-null float64\n",
      "dtypes: float64(15), int32(2), int64(2)\n",
      "memory usage: 1.2 MB\n"
     ]
    }
   ],
   "source": [
    "Cases.info()"
   ]
  },
  {
   "cell_type": "code",
   "execution_count": 13,
   "metadata": {},
   "outputs": [],
   "source": [
    "Cases['result'] = Cases[['result']].fillna(value=2.0)"
   ]
  },
  {
   "cell_type": "code",
   "execution_count": 15,
   "metadata": {},
   "outputs": [],
   "source": [
    "Cases.drop(Cases[Cases.result==2.0].index, inplace = True) "
   ]
  },
  {
   "cell_type": "code",
   "execution_count": 16,
   "metadata": {},
   "outputs": [],
   "source": [
    "labels2 = Cases[['result']]"
   ]
  },
  {
   "cell_type": "code",
   "execution_count": 17,
   "metadata": {},
   "outputs": [],
   "source": [
    "Cases.drop('result', axis=1, inplace=True)"
   ]
  },
  {
   "cell_type": "markdown",
   "metadata": {},
   "source": [
    "#### beginning preparation for GBoosted classifier"
   ]
  },
  {
   "cell_type": "code",
   "execution_count": 18,
   "metadata": {},
   "outputs": [],
   "source": [
    "def cats(DF):\n",
    "    for i in DF.columns:\n",
    "        DF[i] = pd.Categorical(DF[i])\n",
    "    return DF"
   ]
  },
  {
   "cell_type": "code",
   "execution_count": 19,
   "metadata": {},
   "outputs": [],
   "source": [
    "cats(Cases)\n",
    "Cases2 = Cases"
   ]
  },
  {
   "cell_type": "code",
   "execution_count": 20,
   "metadata": {},
   "outputs": [
    {
     "data": {
      "text/plain": [
       "18"
      ]
     },
     "execution_count": 20,
     "metadata": {},
     "output_type": "execute_result"
    }
   ],
   "source": [
    "len(Cases2.columns)"
   ]
  },
  {
   "cell_type": "code",
   "execution_count": 21,
   "metadata": {},
   "outputs": [],
   "source": [
    "binCols = ['dateArgument', 'dateRearg','threeJudgeFdc','lcDisagreement']\n",
    "# Takes all 14 other columns\n",
    "dummy_cols = list(set(Cases2.columns) - set(binCols))"
   ]
  },
  {
   "cell_type": "code",
   "execution_count": 22,
   "metadata": {},
   "outputs": [
    {
     "data": {
      "text/plain": [
       "['respondentState',\n",
       " 'caseOriginState',\n",
       " 'caseSource',\n",
       " 'adminActionState',\n",
       " 'caseSourceState',\n",
       " 'caseOrigin',\n",
       " 'lcDispositionDirection',\n",
       " 'respondent',\n",
       " 'lcDisposition',\n",
       " 'petitioner',\n",
       " 'jurisdiction',\n",
       " 'adminAction',\n",
       " 'certReason',\n",
       " 'petitionerState']"
      ]
     },
     "execution_count": 22,
     "metadata": {},
     "output_type": "execute_result"
    }
   ],
   "source": [
    "dummy_cols"
   ]
  },
  {
   "cell_type": "code",
   "execution_count": 23,
   "metadata": {},
   "outputs": [],
   "source": [
    "Cases2 = pd.get_dummies(Cases2, columns=dummy_cols, drop_first=True)"
   ]
  },
  {
   "cell_type": "code",
   "execution_count": 24,
   "metadata": {},
   "outputs": [],
   "source": [
    "X_train, X_test, y_train, y_test = train_test_split(Cases2, labels2, test_size=0.2, random_state=23)"
   ]
  },
  {
   "cell_type": "code",
   "execution_count": 25,
   "metadata": {},
   "outputs": [],
   "source": [
    "y_test = np.ravel(y_test)\n",
    "y_train = np.ravel(y_train)"
   ]
  },
  {
   "cell_type": "code",
   "execution_count": 26,
   "metadata": {},
   "outputs": [],
   "source": [
    "params = {'n_estimators': 4000, 'learning_rate': 0.01, 'random_state':23}\n",
    "GBC = GradientBoostingClassifier(**params)"
   ]
  },
  {
   "cell_type": "code",
   "execution_count": 27,
   "metadata": {},
   "outputs": [
    {
     "data": {
      "text/plain": [
       "GradientBoostingClassifier(criterion='friedman_mse', init=None,\n",
       "              learning_rate=0.01, loss='deviance', max_depth=3,\n",
       "              max_features=None, max_leaf_nodes=None,\n",
       "              min_impurity_decrease=0.0, min_impurity_split=None,\n",
       "              min_samples_leaf=1, min_samples_split=2,\n",
       "              min_weight_fraction_leaf=0.0, n_estimators=4000,\n",
       "              n_iter_no_change=None, presort='auto', random_state=23,\n",
       "              subsample=1.0, tol=0.0001, validation_fraction=0.1,\n",
       "              verbose=0, warm_start=False)"
      ]
     },
     "execution_count": 27,
     "metadata": {},
     "output_type": "execute_result"
    }
   ],
   "source": [
    "GBC.fit(X_train, y_train)"
   ]
  },
  {
   "cell_type": "code",
   "execution_count": 28,
   "metadata": {},
   "outputs": [
    {
     "data": {
      "text/plain": [
       "0.6647887323943662"
      ]
     },
     "execution_count": 28,
     "metadata": {},
     "output_type": "execute_result"
    }
   ],
   "source": [
    "GBC.score(X_test, y_test)"
   ]
  },
  {
   "cell_type": "code",
   "execution_count": 29,
   "metadata": {},
   "outputs": [
    {
     "data": {
      "text/plain": [
       "Text(0, 0.5, 'Deviance')"
      ]
     },
     "execution_count": 29,
     "metadata": {},
     "output_type": "execute_result"
    },
    {
     "data": {
      "image/png": "[encoded data removed]",
      "text/plain": [
       "<Figure size 864x432 with 1 Axes>"
      ]
     },
     "metadata": {
      "needs_background": "light"
     },
     "output_type": "display_data"
    }
   ],
   "source": [
    "test_score = np.zeros((params['n_estimators'],), dtype=np.float64)\n",
    "\n",
    "for i, y_pred in enumerate(GBC.staged_predict(X_test)):\n",
    "    test_score[i] = GBC.loss_(y_test, y_pred)\n",
    "\n",
    "plt.figure(figsize=(12, 6))\n",
    "plt.subplot(1, 2, 1)\n",
    "plt.title('Deviance')\n",
    "plt.plot(np.arange(params['n_estimators']) + 1, GBC.train_score_, 'b-',\n",
    "         label='Training Set Deviance')\n",
    "plt.plot(np.arange(params['n_estimators']) + 1, test_score, 'r-',\n",
    "         label='Test Set Deviance')\n",
    "plt.legend(loc='upper right')\n",
    "plt.xlabel('Boosting Iterations')\n",
    "plt.ylabel('Deviance')"
   ]
  },
  {
   "cell_type": "code",
   "execution_count": 30,
   "metadata": {},
   "outputs": [
    {
     "data": {
      "text/plain": [
       "0.6399594320486816"
      ]
     },
     "execution_count": 30,
     "metadata": {},
     "output_type": "execute_result"
    }
   ],
   "source": [
    "GBC.score(X_train, y_train)\n",
    "5679/8874"
   ]
  },
  {
   "cell_type": "code",
   "execution_count": 31,
   "metadata": {},
   "outputs": [
    {
     "data": {
      "image/png": "[encoded data removed]",
      "text/plain": [
       "<Figure size 432x288 with 1 Axes>"
      ]
     },
     "metadata": {
      "needs_background": "light"
     },
     "output_type": "display_data"
    }
   ],
   "source": [
    "feature_importance = GBC.feature_importances_\n",
    "# make importances relative to max importance\n",
    "feature_importance = 100.0 * (feature_importance / feature_importance.max())\n",
    "sorted_idx = np.argsort(feature_importance)\n",
    "pos = np.arange(sorted_idx.shape[0]) + .5\n",
    "plt.subplot(1, 2, 2)\n",
    "plt.barh(pos, feature_importance[sorted_idx], align='center')\n",
    "plt.yticks(pos, Cases2.columns[sorted_idx])\n",
    "plt.xlabel('Relative Importance')\n",
    "plt.title('Variable Importance')\n",
    "plt.show()"
   ]
  },
  {
   "cell_type": "code",
   "execution_count": 38,
   "metadata": {},
   "outputs": [
    {
     "data": {
      "text/html": [
       "<div>\n",
       "<style scoped>\n",
       "    .dataframe tbody tr th:only-of-type {\n",
       "        vertical-align: middle;\n",
       "    }\n",
       "\n",
       "    .dataframe tbody tr th {\n",
       "        vertical-align: top;\n",
       "    }\n",
       "\n",
       "    .dataframe thead th {\n",
       "        text-align: right;\n",
       "    }\n",
       "</style>\n",
       "<table border=\"1\" class=\"dataframe\">\n",
       "  <thead>\n",
       "    <tr style=\"text-align: right;\">\n",
       "      <th></th>\n",
       "      <th>dateArgument</th>\n",
       "      <th>dateRearg</th>\n",
       "      <th>petitioner</th>\n",
       "      <th>petitionerState</th>\n",
       "      <th>respondent</th>\n",
       "      <th>respondentState</th>\n",
       "      <th>jurisdiction</th>\n",
       "      <th>adminAction</th>\n",
       "      <th>adminActionState</th>\n",
       "      <th>threeJudgeFdc</th>\n",
       "      <th>caseOrigin</th>\n",
       "      <th>caseOriginState</th>\n",
       "      <th>caseSource</th>\n",
       "      <th>caseSourceState</th>\n",
       "      <th>lcDisagreement</th>\n",
       "      <th>certReason</th>\n",
       "      <th>lcDisposition</th>\n",
       "    </tr>\n",
       "    <tr>\n",
       "      <th>lcDispositionDirection</th>\n",
       "      <th></th>\n",
       "      <th></th>\n",
       "      <th></th>\n",
       "      <th></th>\n",
       "      <th></th>\n",
       "      <th></th>\n",
       "      <th></th>\n",
       "      <th></th>\n",
       "      <th></th>\n",
       "      <th></th>\n",
       "      <th></th>\n",
       "      <th></th>\n",
       "      <th></th>\n",
       "      <th></th>\n",
       "      <th></th>\n",
       "      <th></th>\n",
       "      <th></th>\n",
       "    </tr>\n",
       "  </thead>\n",
       "  <tbody>\n",
       "    <tr>\n",
       "      <th>1.0</th>\n",
       "      <td>4847</td>\n",
       "      <td>4847</td>\n",
       "      <td>4847</td>\n",
       "      <td>4847</td>\n",
       "      <td>4847</td>\n",
       "      <td>4847</td>\n",
       "      <td>4847</td>\n",
       "      <td>4847</td>\n",
       "      <td>4847</td>\n",
       "      <td>4847</td>\n",
       "      <td>4847</td>\n",
       "      <td>4847</td>\n",
       "      <td>4847</td>\n",
       "      <td>4847</td>\n",
       "      <td>4847</td>\n",
       "      <td>4847</td>\n",
       "      <td>4847</td>\n",
       "    </tr>\n",
       "    <tr>\n",
       "      <th>2.0</th>\n",
       "      <td>3747</td>\n",
       "      <td>3747</td>\n",
       "      <td>3747</td>\n",
       "      <td>3747</td>\n",
       "      <td>3747</td>\n",
       "      <td>3747</td>\n",
       "      <td>3747</td>\n",
       "      <td>3747</td>\n",
       "      <td>3747</td>\n",
       "      <td>3747</td>\n",
       "      <td>3747</td>\n",
       "      <td>3747</td>\n",
       "      <td>3747</td>\n",
       "      <td>3747</td>\n",
       "      <td>3747</td>\n",
       "      <td>3747</td>\n",
       "      <td>3747</td>\n",
       "    </tr>\n",
       "    <tr>\n",
       "      <th>3.0</th>\n",
       "      <td>280</td>\n",
       "      <td>280</td>\n",
       "      <td>280</td>\n",
       "      <td>280</td>\n",
       "      <td>280</td>\n",
       "      <td>280</td>\n",
       "      <td>280</td>\n",
       "      <td>280</td>\n",
       "      <td>280</td>\n",
       "      <td>280</td>\n",
       "      <td>280</td>\n",
       "      <td>280</td>\n",
       "      <td>280</td>\n",
       "      <td>280</td>\n",
       "      <td>280</td>\n",
       "      <td>280</td>\n",
       "      <td>280</td>\n",
       "    </tr>\n",
       "  </tbody>\n",
       "</table>\n",
       "</div>"
      ],
      "text/plain": [
       "                        dateArgument  dateRearg  petitioner  petitionerState  \\\n",
       "lcDispositionDirection                                                         \n",
       "1.0                             4847       4847        4847             4847   \n",
       "2.0                             3747       3747        3747             3747   \n",
       "3.0                              280        280         280              280   \n",
       "\n",
       "                        respondent  respondentState  jurisdiction  \\\n",
       "lcDispositionDirection                                              \n",
       "1.0                           4847             4847          4847   \n",
       "2.0                           3747             3747          3747   \n",
       "3.0                            280              280           280   \n",
       "\n",
       "                        adminAction  adminActionState  threeJudgeFdc  \\\n",
       "lcDispositionDirection                                                 \n",
       "1.0                            4847              4847           4847   \n",
       "2.0                            3747              3747           3747   \n",
       "3.0                             280               280            280   \n",
       "\n",
       "                        caseOrigin  caseOriginState  caseSource  \\\n",
       "lcDispositionDirection                                            \n",
       "1.0                           4847             4847        4847   \n",
       "2.0                           3747             3747        3747   \n",
       "3.0                            280              280         280   \n",
       "\n",
       "                        caseSourceState  lcDisagreement  certReason  \\\n",
       "lcDispositionDirection                                                \n",
       "1.0                                4847            4847        4847   \n",
       "2.0                                3747            3747        3747   \n",
       "3.0                                 280             280         280   \n",
       "\n",
       "                        lcDisposition  \n",
       "lcDispositionDirection                 \n",
       "1.0                              4847  \n",
       "2.0                              3747  \n",
       "3.0                               280  "
      ]
     },
     "execution_count": 38,
     "metadata": {},
     "output_type": "execute_result"
    }
   ],
   "source": [
    "Cases.groupby('lcDispositionDirection').count()"
   ]
  },
  {
   "cell_type": "code",
   "execution_count": null,
   "metadata": {},
   "outputs": [],
   "source": []
  }
 ],
 "metadata": {
  "kernelspec": {
   "display_name": "Python 3",
   "language": "python",
   "name": "python3"
  },
  "language_info": {
   "codemirror_mode": {
    "name": "ipython",
    "version": 3
   },
   "file_extension": ".py",
   "mimetype": "text/x-python",
   "name": "python",
   "nbconvert_exporter": "python",
   "pygments_lexer": "ipython3",
   "version": "3.7.1"
  }
 },
 "nbformat": 4,
 "nbformat_minor": 2
}
